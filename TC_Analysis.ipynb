{
  "cells": [
    {
      "cell_type": "markdown",
      "metadata": {
        "id": "Q2IfEcqdcAEt"
      },
      "source": [
        "#Introduction\n",
        "Introduction to be modified"
      ]
    },
    {
      "cell_type": "markdown",
      "metadata": {},
      "source": [
        "# Installs"
      ]
    },
    {
      "cell_type": "markdown",
      "metadata": {
        "id": "AR20CMG9beWF"
      },
      "source": [
        "# Imports\n",
        "These are the libraries this notebook is going to use. if you're having difficulty with executing the notebook make sure to have all modules correctly installed in your enviroment."
      ]
    },
    {
      "cell_type": "code",
      "execution_count": 25,

      "metadata": {
        "id": "bSiqettSayfm"
      },
      "outputs": [],
      "source": [
        "import pandas as pd\n",
        "import requests\n",
        "from io import BytesIO\n",
        "import numpy as np\n",
        "import unicodedata\n",
        "import matplotlib.pyplot as plt"
      ]
    },
    {
      "cell_type": "markdown",
      "metadata": {},
      "source": [
        "# Getting Started"
      ]
    },
    {
      "cell_type": "code",
      "execution_count": 26,
      "metadata": {},
      "outputs": [
        {
          "name": "stdout",
          "output_type": "stream",
          "text": [
            "Number of instances = 973\n",
            "Number of attributes = 24\n"
          ]
        },
        {
          "data": {
            "text/plain": [
              "Index(['SID', 'Sex', 'Age', 'Wilaya', 'TC Type', 'Nodule Count', ' TNM',\n",
              "       'Echography', 'Cytopuncture', 'Diameter', 'Location',\n",
              "       'Infected Area Count', 'ATCD', 'Family Situation', 'Discovery Method',\n",
              "       'Surgery Type', 'LN Dissection', 'Post-Surgery Status', 'LN Metastasis',\n",
              "       'Distant Metastasis', 'Iodine Dosage', 'Capsular Invasion',\n",
              "       'Muscle Tissue Invasion', 'Vascular Embolism'],\n",
              "      dtype='object')"
            ]
          },
          "execution_count": 26,
          "metadata": {},
          "output_type": "execute_result"
        }
      ],
      "source": [
        "#data_url = \"https://raw.githubusercontent.com/Abd-Elhakim-Arabet/TC-Analysis/main/attempt_20_01.xlsx\"\n",
        "#response = requests.get(data_url, verify=False)\n",
        "#sheets_to_combine = [\"Feuil1\"]\n",
        "#data = pd.read_excel(BytesIO(response.content), sheet_name=sheets_to_combine, engine='openpyxl')\n",
        "#data = pd.concat(data.values(), ignore_index=True)\n",
        "\n",
        "\n",
        "file_path = 'data_redhouane.xlsx'\n",
        "data = pd.read_excel(file_path)\n",
        "\n",
        "# Drop the ID column\n",
        "data = data.drop(['ID'],axis=1)\n",
        "\n",
        "print(f'Number of instances = {data.shape[0]}' )\n",
        "print(f'Number of attributes = {data.shape[1]}' )\n",
        "data.keys()\n"
      ]
    },
    {
      "cell_type": "markdown",
      "metadata": {},
      "source": [
        "# Initial Transformation of the Data Types"
      ]
    },
    {
      "cell_type": "markdown",
      "metadata": {},
      "source": [
        "Translating column names to english from french"
      ]
    },
    {
      "cell_type": "code",
      "execution_count": 27,
      "metadata": {},
      "outputs": [],
      "source": [
        "#Translate french to english\n",
        "def remove_accents(text):\n",
        "    return ''.join(\n",
        "        char for char in unicodedata.normalize('NFD', text)\n",
        "        if unicodedata.category(char) != 'Mn'\n",
        "    )\n",
        "\n",
        "data.columns = [remove_accents(col) for col in data.columns]\n"
      ]
    },
    {
      "cell_type": "markdown",
      "metadata": {},
      "source": [
        "Convert Diametre to a float number in cm"
      ]
    },
    {
      "cell_type": "code",
      "execution_count": 28,
      "metadata": {},
      "outputs": [],
      "source": [
        "def convert_to_cm(value):\n",
        "    if value is np.nan:\n",
        "        return None\n",
        "    if \"cm\" in value:\n",
        "        return float(value.replace(\" cm\", \"\")) \n",
        "    elif \"mm\" in value:\n",
        "        return float(value.replace(\" mm\", \"\")) / 10\n",
        "    else:\n",
        "        return None \n",
        "    \n",
        "data[\"Diameter\"] = data[\"Diameter\"].apply(convert_to_cm)"
      ]
    },
    {
      "cell_type": "code",
      "execution_count": 29,
      "metadata": {},
      "outputs": [
        {
          "data": {
            "text/plain": [
              "0    NaN\n",
              "1    1.5\n",
              "2    1.0\n",
              "3    1.4\n",
              "4    2.0\n",
              "Name: Diameter, dtype: float64"
            ]
          },
          "execution_count": 29,
          "metadata": {},
          "output_type": "execute_result"
        }
      ],
      "source": [
        "data.head()['Diameter']"
      ]
    },
    {
      "cell_type": "markdown",
      "metadata": {},
      "source": [
        "# Handling Missing Values"
      ]
    },
    {
      "cell_type": "code",
      "execution_count": 30,
      "metadata": {},
      "outputs": [
        {
          "name": "stdout",
          "output_type": "stream",
          "text": [
            "Empty Cells in each column\n",
            "SID                         1\n",
            "Sex                        10\n",
            "Age                        15\n",
            "Wilaya                     27\n",
            "TC Type                    26\n",
            "Nodule Count              220\n",
            " TNM                       47\n",
            "Echography                211\n",
            "Cytopuncture               62\n",
            "Diameter                   94\n",
            "Location                   87\n",
            "Infected Area Count       391\n",
            "ATCD                       37\n",
            "Family Situation           33\n",
            "Discovery Method           51\n",
            "Surgery Type               43\n",
            "LN Dissection             111\n",
            "Post-Surgery Status       141\n",
            "LN Metastasis             108\n",
            "Distant Metastasis        111\n",
            "Iodine Dosage             500\n",
            "Capsular Invasion         106\n",
            "Muscle Tissue Invasion    107\n",
            "Vascular Embolism         110\n",
            "dtype: int64\n"
          ]
        }
      ],
      "source": [
        "count_na = (data.isna()).sum()\n",
        "\n",
        "print(\"Empty Cells in each column\")\n",
        "print(count_na)"
      ]
    },
    {
      "cell_type": "markdown",
      "metadata": {},
      "source": [
        "*Numeric Data:*\n",
        "\n",
        "We will handle the missing numerical data by filling empty cells with the median value of that column "
      ]
    },
    {
      "cell_type": "code",
      "execution_count": 31,
      "metadata": {},
      "outputs": [],
      "source": [
        "data[\"Nodule Count\"] = data[\"Nodule Count\"].fillna(data[\"Nodule Count\"].median())\n",
        "data[\"Diameter\"] = data[\"Diameter\"].fillna(data[\"Diameter\"].median())\n",
        "data[\"Age\"] = data[\"Age\"].fillna(data[\"Age\"].median())"
      ]
    },
    {
      "cell_type": "markdown",
      "metadata": {},
      "source": [
        "*Categorical Data:*\n",
        "\n",
        "To be handeled later, currently left as NaN"
      ]
    },
    {
      "cell_type": "code",
      "execution_count": 32,
      "metadata": {},
      "outputs": [],
      "source": [
        "#To Do"
      ]
    },
    {
      "cell_type": "markdown",
      "metadata": {},
      "source": [
        "# Outliers\n",
        "Outliers are data instances with characteristics that are considerably different from the rest of the dataset. "
      ]
    },
    {
      "cell_type": "code",
      "execution_count": 33,
      "metadata": {},
      "outputs": [
        {
          "data": {
            "image/png": "[encoded data removed]",
            "text/plain": [
              "<Figure size 1000x500 with 1 Axes>"
            ]
          },
          "metadata": {},
          "output_type": "display_data"
        }
      ],
      "source": [
        "plt.figure(figsize=(10, 5))  \n",
        "data['Diameter'].plot(kind='box', figsize=(10, 5))\n",
        "\n",
        "plt.title(\"Boxplot of Diemeter\", fontsize=16)\n",
        "plt.ylabel(\"Diemeter\", fontsize=12)\n",
        "\n",
        "plt.show()"
      ]
    },
    {
      "cell_type": "markdown",
      "metadata": {},
      "source": [
        "The boxplots suggest that only 8 instances have abnormally high Diemeter length. To discard the outliers, we can compute the Z-score and remove those instances containing a diameter with abnormally high or low Z-score (e.g., if Z > 3 or Z <= -3)."
      ]
    },
    {
      "cell_type": "code",
      "execution_count": 34,
      "metadata": {},
      "outputs": [],
      "source": [
        "Z = (data['Diameter']-data['Diameter'].mean())/data['Diameter'].std()"
      ]
    },
    {
      "cell_type": "code",
      "execution_count": 35,
      "metadata": {},
      "outputs": [
        {
          "name": "stdout",
          "output_type": "stream",
          "text": [
            "Number of rows before discarding outliers = 973\n",
            "Number of rows before discarding outliers = 951\n"
          ]
        }
      ],
      "source": [
        "print( f'Number of rows before discarding outliers = {data.__len__()}' )\n",
        "\n",
        "data = data[(Z <= 3) & (Z >= -3)]\n",
        "print( f'Number of rows before discarding outliers = {data.__len__()}' )"
      ]
    },
    {
      "cell_type": "markdown",
      "metadata": {},
      "source": [
        "# Duplicates\n"
      ]
    },
    {
      "cell_type": "code",
      "execution_count": 36,
      "metadata": {},
      "outputs": [
        {
          "name": "stdout",
          "output_type": "stream",
          "text": [
            "Number of duplicate rows = 0\n"
          ]
        }
      ],
      "source": [
        "dups = data.duplicated()\n",
        "print('Number of duplicate rows = %d' % (dups.sum()))"
      ]
    },
    {
      "cell_type": "markdown",
      "metadata": {},
      "source": [
        "With no duplicates in the data, no need to handle them\n",
        "\n",
        "ALERT: WHEN MERGING THE ENTIRE SHEETS RECHECK FOR DUPLICATES"
      ]
    },
    {
      "cell_type": "markdown",
      "metadata": {},
      "source": [
        "# Unify Values Names"
      ]
    },
    {
      "cell_type": "code",
      "execution_count": 89,
      "metadata": {},
      "outputs": [
        {
          "data": {
            "text/plain": [
              "array(['TIRADS 4', nan, 'TIRADS 3', 'TIRADS 5', 'EUTIRAD5', 'EUTIRAD6', 2,\n",
              "       'TIRADS ', 'TIRADS 6', 'TIRADS 5 '], dtype=object)"
            ]
          },
          "execution_count": 89,
          "metadata": {},
          "output_type": "execute_result"
        }
      ],
      "source": [
        "data['echographie'].value_counts()"
      ]
    },
    {
      "cell_type": "markdown",
      "metadata": {},
      "source": [
        "We drop the values 'TIRADS' and '2' because we can't be sure what they are reffering to"
      ]
    },
    {
      "cell_type": "code",
      "execution_count": 16,
      "metadata": {},
      "outputs": [
        {
          "name": "stdout",
          "output_type": "stream",
          "text": [
            "Number of rows before droping the values = 403\n",
            "Number of rows after droping the values = 400\n"
          ]
        }
      ],
      "source": [
        "print( f'Number of rows before droping the values = {data.__len__()}' )\n",
        "\n",
        "data = data[data['echographie'] != 'TIRADS ']\n",
        "data = data[data['echographie'] != 2]\n",
        "print( f'Number of rows after droping the values = {data.__len__()}' )"
      ]
    },
    {
      "cell_type": "markdown",
      "metadata": {},
      "source": [
        "We gather the mistyped classes into one and make EUTIRAD into thier TIRADS counterpart"
      ]
    },
    {
      "cell_type": "code",
      "execution_count": 17,
      "metadata": {},
      "outputs": [],
      "source": [
        "data['echographie'] = data['echographie'].replace([\"TIRADS 5 \", \"TIRADS 5\", \"EUTIRAD5\"], \"TIRADS 5\")\n",
        "data['echographie'] = data['echographie'].replace([\"TIRADS 6 \", \"EUTIRAD6\"], \"TIRADS 6\")"
      ]
    },
    {
      "cell_type": "markdown",
      "metadata": {},
      "source": [
        "# Visualize Correlation"
      ]
    },
    {
      "cell_type": "code",
      "execution_count": 19,
      "metadata": {},
      "outputs": [
        {
          "data": {
            "image/png": "[encoded data removed]",
            "text/plain": [
              "<Figure size 640x480 with 1 Axes>"
            ]
          },
          "metadata": {},
          "output_type": "display_data"
        }
      ],
      "source": [
        "# Visualize relationship between price and room_type\n",
        "sns.boxplot(x = 'echographie', y = 'Diametre', data = data)\n",
        "plt.ylim(0, 8)\n",
        "plt.xlabel('Echographie')\n",
        "plt.ylabel('Diametre')\n",
        "plt.show() "
      ]
    },
    {
      "cell_type": "markdown",
      "metadata": {},
      "source": [
        "# Clustering"

      ]
    },
    {
      "cell_type": "code",
      "execution_count": null,
      "metadata": {},
      "outputs": [],
      "source": []
    }
  ],
  "metadata": {
    "colab": {
      "provenance": []
    },
    "kernelspec": {
      "display_name": "Python 3",
      "language": "python",
      "name": "python3"
    },
    "language_info": {
      "codemirror_mode": {
        "name": "ipython",
        "version": 3
      },
      "file_extension": ".py",
      "mimetype": "text/x-python",
      "name": "python",
      "nbconvert_exporter": "python",
      "pygments_lexer": "ipython3",
      "version": "3.12.0"
    }
  },
  "nbformat": 4,
  "nbformat_minor": 0
}
