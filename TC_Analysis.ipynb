{
  "cells": [
    {
      "cell_type": "markdown",
      "metadata": {
        "id": "Q2IfEcqdcAEt"
      },
      "source": [
        "#Introduction\n",
        "Introduction to be modified"
      ]
    },
    {
      "cell_type": "markdown",
      "metadata": {},
      "source": [
        "# Installs"
      ]
    },
    {
      "cell_type": "code",
      "execution_count": null,
      "metadata": {},
      "outputs": [],
      "source": [
        "%pip install matplotlib"
      ]
    },
    {
      "cell_type": "markdown",
      "metadata": {
        "id": "AR20CMG9beWF"
      },
      "source": [
        "# Imports\n",
        "These are the libraries this notebook is going to use. if you're having difficulty with executing the notebook make sure to have all modules correctly installed in your enviroment."
      ]
    },
    {
      "cell_type": "code",
      "execution_count": 80,
      "metadata": {
        "id": "bSiqettSayfm"
      },
      "outputs": [],
      "source": [
        "import pandas as pd\n",
        "import requests\n",
        "from io import BytesIO\n",
        "import numpy as np\n",
        "import unicodedata\n",
        "import matplotlib.pyplot as plt"
      ]
    },
    {
      "cell_type": "markdown",
      "metadata": {},
      "source": [
        "# Getting Started"
      ]
    },
    {
      "cell_type": "code",
      "execution_count": 47,
      "metadata": {},
      "outputs": [
        {
          "name": "stderr",
          "output_type": "stream",
          "text": [
            "/Library/Frameworks/Python.framework/Versions/3.12/lib/python3.12/site-packages/urllib3/connectionpool.py:1097: InsecureRequestWarning: Unverified HTTPS request is being made to host 'raw.githubusercontent.com'. Adding certificate verification is strongly advised. See: https://urllib3.readthedocs.io/en/latest/advanced-usage.html#tls-warnings\n",
            "  warnings.warn(\n"
          ]
        },
        {
          "name": "stdout",
          "output_type": "stream",
          "text": [
            "Number of instances = 410\n",
            "Number of attributes = 25\n"
          ]
        },
        {
          "data": {
            "text/html": [
              "<div>\n",
              "<style scoped>\n",
              "    .dataframe tbody tr th:only-of-type {\n",
              "        vertical-align: middle;\n",
              "    }\n",
              "\n",
              "    .dataframe tbody tr th {\n",
              "        vertical-align: top;\n",
              "    }\n",
              "\n",
              "    .dataframe thead th {\n",
              "        text-align: right;\n",
              "    }\n",
              "</style>\n",
              "<table border=\"1\" class=\"dataframe\">\n",
              "  <thead>\n",
              "    <tr style=\"text-align: right;\">\n",
              "      <th></th>\n",
              "      <th>N° DM 2023</th>\n",
              "      <th>Sexe</th>\n",
              "      <th>Age</th>\n",
              "      <th>wilaya</th>\n",
              "      <th>Type de CPT</th>\n",
              "      <th>Nombre de nodules</th>\n",
              "      <th>TNM</th>\n",
              "      <th>echographie</th>\n",
              "      <th>cytoponction</th>\n",
              "      <th>Diamètre</th>\n",
              "      <th>...</th>\n",
              "      <th>chirurgie</th>\n",
              "      <th>curage gg</th>\n",
              "      <th>suite post opératoires</th>\n",
              "      <th>métastases gg</th>\n",
              "      <th>Métastases à distance</th>\n",
              "      <th>prise Iode</th>\n",
              "      <th>invasion capsulaire</th>\n",
              "      <th>invasion tissu musculaire</th>\n",
              "      <th>emboles vasculaires</th>\n",
              "      <th>Unnamed: 26</th>\n",
              "    </tr>\n",
              "  </thead>\n",
              "  <tbody>\n",
              "    <tr>\n",
              "      <th>0</th>\n",
              "      <td>001/23</td>\n",
              "      <td>F</td>\n",
              "      <td>43.0</td>\n",
              "      <td>jijel</td>\n",
              "      <td>classique</td>\n",
              "      <td>NaN</td>\n",
              "      <td>pT1b</td>\n",
              "      <td>TIRADS 4</td>\n",
              "      <td>NaN</td>\n",
              "      <td>NaN</td>\n",
              "      <td>...</td>\n",
              "      <td>TT</td>\n",
              "      <td>NaN</td>\n",
              "      <td>simples</td>\n",
              "      <td>non</td>\n",
              "      <td>non</td>\n",
              "      <td>NaN</td>\n",
              "      <td>oui</td>\n",
              "      <td>oui</td>\n",
              "      <td>non</td>\n",
              "      <td>NaN</td>\n",
              "    </tr>\n",
              "    <tr>\n",
              "      <th>1</th>\n",
              "      <td>002/23</td>\n",
              "      <td>F</td>\n",
              "      <td>53.0</td>\n",
              "      <td>alger</td>\n",
              "      <td>classique</td>\n",
              "      <td>1.0</td>\n",
              "      <td>pT1b</td>\n",
              "      <td>NaN</td>\n",
              "      <td>nodule</td>\n",
              "      <td>1.5 cm</td>\n",
              "      <td>...</td>\n",
              "      <td>TT</td>\n",
              "      <td>NaN</td>\n",
              "      <td>NaN</td>\n",
              "      <td>NaN</td>\n",
              "      <td>NaN</td>\n",
              "      <td>NaN</td>\n",
              "      <td>NaN</td>\n",
              "      <td>NaN</td>\n",
              "      <td>NaN</td>\n",
              "      <td>NaN</td>\n",
              "    </tr>\n",
              "    <tr>\n",
              "      <th>2</th>\n",
              "      <td>003/23</td>\n",
              "      <td>F</td>\n",
              "      <td>48.0</td>\n",
              "      <td>alger</td>\n",
              "      <td>vésiculaire</td>\n",
              "      <td>2.0</td>\n",
              "      <td>NaN</td>\n",
              "      <td>NaN</td>\n",
              "      <td>NaN</td>\n",
              "      <td>10 mm</td>\n",
              "      <td>...</td>\n",
              "      <td>TT</td>\n",
              "      <td>NaN</td>\n",
              "      <td>simples</td>\n",
              "      <td>non</td>\n",
              "      <td>non</td>\n",
              "      <td>NaN</td>\n",
              "      <td>non</td>\n",
              "      <td>non</td>\n",
              "      <td>non</td>\n",
              "      <td>NaN</td>\n",
              "    </tr>\n",
              "    <tr>\n",
              "      <th>3</th>\n",
              "      <td>004/23</td>\n",
              "      <td>F</td>\n",
              "      <td>50.0</td>\n",
              "      <td>chlef</td>\n",
              "      <td>vésiculaire</td>\n",
              "      <td>1.0</td>\n",
              "      <td>pT2</td>\n",
              "      <td>NaN</td>\n",
              "      <td>NaN</td>\n",
              "      <td>1.4 cm</td>\n",
              "      <td>...</td>\n",
              "      <td>TT</td>\n",
              "      <td>NaN</td>\n",
              "      <td>simples</td>\n",
              "      <td>non</td>\n",
              "      <td>non</td>\n",
              "      <td>NaN</td>\n",
              "      <td>non</td>\n",
              "      <td>non</td>\n",
              "      <td>non</td>\n",
              "      <td>NaN</td>\n",
              "    </tr>\n",
              "    <tr>\n",
              "      <th>4</th>\n",
              "      <td>005/23</td>\n",
              "      <td>F</td>\n",
              "      <td>70.0</td>\n",
              "      <td>tipaza</td>\n",
              "      <td>classique</td>\n",
              "      <td>1.0</td>\n",
              "      <td>pT2N1b</td>\n",
              "      <td>TIRADS 4</td>\n",
              "      <td>nodule</td>\n",
              "      <td>2 cm</td>\n",
              "      <td>...</td>\n",
              "      <td>TT</td>\n",
              "      <td>central</td>\n",
              "      <td>NaN</td>\n",
              "      <td>NaN</td>\n",
              "      <td>NaN</td>\n",
              "      <td>NaN</td>\n",
              "      <td>NaN</td>\n",
              "      <td>NaN</td>\n",
              "      <td>NaN</td>\n",
              "      <td>NaN</td>\n",
              "    </tr>\n",
              "  </tbody>\n",
              "</table>\n",
              "<p>5 rows × 25 columns</p>\n",
              "</div>"
            ],
            "text/plain": [
              "  N° DM 2023 Sexe   Age  wilaya  Type de CPT  Nombre de nodules     TNM  \\\n",
              "0     001/23    F  43.0   jijel    classique                NaN    pT1b   \n",
              "1     002/23    F  53.0   alger    classique                1.0    pT1b   \n",
              "2     003/23    F  48.0   alger  vésiculaire                2.0     NaN   \n",
              "3     004/23    F  50.0   chlef  vésiculaire                1.0     pT2   \n",
              "4     005/23    F  70.0  tipaza    classique                1.0  pT2N1b   \n",
              "\n",
              "  echographie cytoponction Diamètre  ... chirurgie curage gg  \\\n",
              "0    TIRADS 4          NaN      NaN  ...        TT       NaN   \n",
              "1         NaN       nodule   1.5 cm  ...        TT       NaN   \n",
              "2         NaN          NaN    10 mm  ...        TT       NaN   \n",
              "3         NaN          NaN   1.4 cm  ...        TT       NaN   \n",
              "4    TIRADS 4       nodule     2 cm  ...        TT   central   \n",
              "\n",
              "  suite post opératoires métastases gg Métastases à distance prise Iode  \\\n",
              "0                simples           non                   non        NaN   \n",
              "1                    NaN           NaN                   NaN        NaN   \n",
              "2                simples           non                   non        NaN   \n",
              "3                simples           non                   non        NaN   \n",
              "4                    NaN           NaN                   NaN        NaN   \n",
              "\n",
              "  invasion capsulaire invasion tissu musculaire emboles vasculaires  \\\n",
              "0                 oui                       oui                 non   \n",
              "1                 NaN                       NaN                 NaN   \n",
              "2                 non                       non                 non   \n",
              "3                 non                       non                 non   \n",
              "4                 NaN                       NaN                 NaN   \n",
              "\n",
              "  Unnamed: 26  \n",
              "0         NaN  \n",
              "1         NaN  \n",
              "2         NaN  \n",
              "3         NaN  \n",
              "4         NaN  \n",
              "\n",
              "[5 rows x 25 columns]"
            ]
          },
          "execution_count": 47,
          "metadata": {},
          "output_type": "execute_result"
        }
      ],
      "source": [
        "data_url = \"https://raw.githubusercontent.com/Abd-Elhakim-Arabet/TC-Analysis/main/attempt_20_01.xlsx\"\n",
        "response = requests.get(data_url, verify=False)\n",
        "sheets_to_combine = [\"Feuil1\"]\n",
        "data = pd.read_excel(BytesIO(response.content), sheet_name=sheets_to_combine, engine='openpyxl')\n",
        "data = pd.concat(data.values(), ignore_index=True)\n",
        "# Drop the ID column\n",
        "data = data.drop(['ID'],axis=1)\n",
        "print(f'Number of instances = {data.shape[0]}' )\n",
        "print(f'Number of attributes = {data.shape[1]}' )\n",
        "data.head()\n"
      ]
    },
    {
      "cell_type": "markdown",
      "metadata": {},
      "source": [
        "# Initial Transformation of the Data Types"
      ]
    },
    {
      "cell_type": "markdown",
      "metadata": {},
      "source": [
        "Translating column names to english from french"
      ]
    },
    {
      "cell_type": "code",
      "execution_count": 49,
      "metadata": {},
      "outputs": [],
      "source": [
        "#Translate french to english\n",
        "def remove_accents(text):\n",
        "    return ''.join(\n",
        "        char for char in unicodedata.normalize('NFD', text)\n",
        "        if unicodedata.category(char) != 'Mn'\n",
        "    )\n",
        "\n",
        "data.columns = [remove_accents(col) for col in data.columns]"
      ]
    },
    {
      "cell_type": "markdown",
      "metadata": {},
      "source": [
        "Convert Diametre to a float number in cm"
      ]
    },
    {
      "cell_type": "code",
      "execution_count": null,
      "metadata": {},
      "outputs": [],
      "source": [
        "def convert_to_cm(value):\n",
        "    if value is np.nan:\n",
        "        return None\n",
        "    if \"cm\" in value:\n",
        "        return float(value.replace(\" cm\", \"\")) \n",
        "    elif \"mm\" in value:\n",
        "        return float(value.replace(\" mm\", \"\")) / 10\n",
        "    else:\n",
        "        return None \n",
        "    \n",
        "data[\"Diametre\"] = data[\"Diametre\"].apply(convert_to_cm)"
      ]
    },
    {
      "cell_type": "code",
      "execution_count": 63,
      "metadata": {},
      "outputs": [
        {
          "data": {
            "text/plain": [
              "dtype('float64')"
            ]
          },
          "execution_count": 63,
          "metadata": {},
          "output_type": "execute_result"
        }
      ],
      "source": [
        "data[\"Diametre\"].dtype"
      ]
    },
    {
      "cell_type": "markdown",
      "metadata": {},
      "source": [
        "# Handling Missing Values"
      ]
    },
    {
      "cell_type": "code",
      "execution_count": 44,
      "metadata": {},
      "outputs": [
        {
          "name": "stdout",
          "output_type": "stream",
          "text": [
            "Empty Cells in each column\n",
            "N° DM 2023                     0\n",
            "Sexe                           1\n",
            "Age                            7\n",
            "wilaya                         8\n",
            "Type de CPT                   11\n",
            "Nombre de nodules            106\n",
            " TNM                          15\n",
            "echographie                   89\n",
            "cytoponction                  23\n",
            "Diamètre                      32\n",
            "Localisation                  29\n",
            "Nombre de foyer              210\n",
            "ATCD                          13\n",
            "situation familiale            8\n",
            "Unnamed: 16                   16\n",
            "chirurgie                     18\n",
            "curage gg                     40\n",
            "suite post opératoires        61\n",
            "métastases gg                 68\n",
            "Métastases à distance         69\n",
            "prise Iode                   175\n",
            "invasion capsulaire           68\n",
            "invasion tissu musculaire     68\n",
            "emboles vasculaires           68\n",
            "Unnamed: 26                  403\n",
            "dtype: int64\n"
          ]
        }
      ],
      "source": [
        "count_na = (data.isna()).sum()\n",
        "\n",
        "print(\"Empty Cells in each column\")\n",
        "print(count_na)"
      ]
    },
    {
      "cell_type": "markdown",
      "metadata": {},
      "source": [
        "*Numeric Data:*\n",
        "\n",
        "We will handle the missing numerical data by filling empty cells with the median value of that column "
      ]
    },
    {
      "cell_type": "code",
      "execution_count": 100,
      "metadata": {},
      "outputs": [],
      "source": [
        "data[\"Nombre de nodules\"] = data[\"Nombre de nodules\"].fillna(data[\"Nombre de nodules\"].median())\n",
        "data[\"Diametre\"] = data[\"Diametre\"].fillna(data[\"Diametre\"].median())\n",
        "data[\"Age\"] = data[\"Age\"].fillna(data[\"Age\"].median())"
      ]
    },
    {
      "cell_type": "markdown",
      "metadata": {},
      "source": [
        "*Categorical Data:*\n",
        "\n",
        "To be handeled later, currently left as NaN"
      ]
    },
    {
      "cell_type": "code",
      "execution_count": null,
      "metadata": {},
      "outputs": [],
      "source": [
        "#To Do"
      ]
    },
    {
      "cell_type": "markdown",
      "metadata": {},
      "source": [
        "# Outliers\n",
        "Outliers are data instances with characteristics that are considerably different from the rest of the dataset. "
      ]
    },
    {
      "cell_type": "code",
      "execution_count": 117,
      "metadata": {},
      "outputs": [
        {
          "data": {
            "image/png": "[encoded data removed]",
            "text/plain": [
              "<Figure size 1000x500 with 1 Axes>"
            ]
          },
          "metadata": {},
          "output_type": "display_data"
        }
      ],
      "source": [
        "plt.figure(figsize=(10, 5))  \n",
        "data['Diametre'].plot(kind='box', figsize=(10, 5))\n",
        "\n",
        "plt.title(\"Boxplot of Diemeter\", fontsize=16)\n",
        "plt.ylabel(\"Diemeter\", fontsize=12)\n",
        "\n",
        "plt.show()"
      ]
    },
    {
      "cell_type": "markdown",
      "metadata": {},
      "source": [
        "The boxplots suggest that only 8 instances have abnormally high Diemeter length. To discard the outliers, we can compute the Z-score and remove those instances containing a diameter with abnormally high or low Z-score (e.g., if Z > 3 or Z <= -3)."
      ]
    },
    {
      "cell_type": "code",
      "execution_count": null,
      "metadata": {},
      "outputs": [],
      "source": [
        "Z = (data['Diametre']-data['Diametre'].mean())/data['Diametre'].std()"
      ]
    },
    {
      "cell_type": "code",
      "execution_count": 108,
      "metadata": {},
      "outputs": [
        {
          "name": "stdout",
          "output_type": "stream",
          "text": [
            "Number of rows before discarding outliers = 410\n",
            "Number of rows before discarding outliers = 403\n"
          ]
        }
      ],
      "source": [
        "print( f'Number of rows before discarding outliers = {data.__len__()}' )\n",
        "\n",
        "data = data[(Z <= 3) & (Z >= -3)]\n",
        "print( f'Number of rows before discarding outliers = {data.__len__()}' )"
      ]
    },
    {
      "cell_type": "markdown",
      "metadata": {},
      "source": [
        "# Duplicates\n"
      ]
    },
    {
      "cell_type": "code",
      "execution_count": 113,
      "metadata": {},
      "outputs": [
        {
          "name": "stdout",
          "output_type": "stream",
          "text": [
            "Number of duplicate rows = 0\n"
          ]
        }
      ],
      "source": [
        "dups = data.duplicated()\n",
        "print('Number of duplicate rows = %d' % (dups.sum()))"
      ]
    },
    {
      "cell_type": "markdown",
      "metadata": {},
      "source": [
        "With no duplicates in the data, no need to handle them\n",
        "\n",
        "ALERT: WHEN MERGING THE ENTIRE SHEETS RECHECK FOR DUPLICATES"
      ]
    },
    {
      "cell_type": "code",
      "execution_count": 114,
      "metadata": {},
      "outputs": [
        {
          "data": {
            "text/plain": [
              "echographie\n",
              "TIRADS 5     154\n",
              "TIRADS 4      88\n",
              "TIRADS 3      55\n",
              "TIRADS 6       9\n",
              "TIRADS 5       3\n",
              "EUTIRAD5       2\n",
              "TIRADS         2\n",
              "EUTIRAD6       1\n",
              "2              1\n",
              "Name: count, dtype: int64"
            ]
          },
          "execution_count": 114,
          "metadata": {},
          "output_type": "execute_result"
        }
      ],
      "source": [
        "data['echographie'].value_counts()"
      ]
    },
    {
      "cell_type": "code",
      "execution_count": 115,
      "metadata": {},
      "outputs": [
        {
          "data": {
            "text/plain": [
              "Diametre\n",
              "(0.0636, 1.678]    230\n",
              "(1.678, 3.285]     106\n",
              "(3.285, 4.892]      49\n",
              "(4.892, 6.5]        18\n",
              "Name: count, dtype: int64"
            ]
          },
          "execution_count": 115,
          "metadata": {},
          "output_type": "execute_result"
        }
      ],
      "source": [
        "bins = pd.cut(data['Diametre'],4)\n",
        "bins.value_counts(sort=False)"
      ]
    },
    {
      "cell_type": "code",
      "execution_count": null,
      "metadata": {},
      "outputs": [],
      "source": []
    }
  ],
  "metadata": {
    "colab": {
      "provenance": []
    },
    "kernelspec": {
      "display_name": "Python 3",
      "name": "python3"
    },
    "language_info": {
      "codemirror_mode": {
        "name": "ipython",
        "version": 3
      },
      "file_extension": ".py",
      "mimetype": "text/x-python",
      "name": "python",
      "nbconvert_exporter": "python",
      "pygments_lexer": "ipython3",
      "version": "3.12.0"
    }
  },
  "nbformat": 4,
  "nbformat_minor": 0
}
