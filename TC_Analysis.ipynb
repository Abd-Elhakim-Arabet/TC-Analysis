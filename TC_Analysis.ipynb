{
  "cells": [
    {
      "cell_type": "markdown",
      "metadata": {
        "id": "Q2IfEcqdcAEt"
      },
      "source": [
        "#Introduction\n",
        "Introduction to be modified"
      ]
    },
    {
      "cell_type": "markdown",
      "metadata": {},
      "source": [
        "# Installs"
      ]
    },
    {
      "cell_type": "code",
      "execution_count": null,
      "metadata": {},
      "outputs": [],
      "source": [
        "%pip install requests"
      ]
    },
    {
      "cell_type": "markdown",
      "metadata": {
        "id": "AR20CMG9beWF"
      },
      "source": [
        "# Imports\n",
        "These are the libraries this notebook is going to use. if you're having difficulty with executing the notebook make sure to have all modules correctly installed in your enviroment."
      ]
    },
    {
      "cell_type": "code",
      "execution_count": 4,
      "metadata": {
        "id": "bSiqettSayfm"
      },
      "outputs": [],
      "source": [
        "import pandas as pd\n",
        "import requests\n",
        "from io import BytesIO"
      ]
    },
    {
      "cell_type": "markdown",
      "metadata": {},
      "source": [
        "# Getting Started"
      ]
    },
    {
      "cell_type": "code",
      "execution_count": 11,
      "metadata": {},
      "outputs": [
        {
          "name": "stderr",
          "output_type": "stream",
          "text": [
            "/Library/Frameworks/Python.framework/Versions/3.12/lib/python3.12/site-packages/urllib3/connectionpool.py:1097: InsecureRequestWarning: Unverified HTTPS request is being made to host 'raw.githubusercontent.com'. Adding certificate verification is strongly advised. See: https://urllib3.readthedocs.io/en/latest/advanced-usage.html#tls-warnings\n",
            "  warnings.warn(\n"
          ]
        },
        {
          "data": {
            "text/html": [
              "<div>\n",
              "<style scoped>\n",
              "    .dataframe tbody tr th:only-of-type {\n",
              "        vertical-align: middle;\n",
              "    }\n",
              "\n",
              "    .dataframe tbody tr th {\n",
              "        vertical-align: top;\n",
              "    }\n",
              "\n",
              "    .dataframe thead th {\n",
              "        text-align: right;\n",
              "    }\n",
              "</style>\n",
              "<table border=\"1\" class=\"dataframe\">\n",
              "  <thead>\n",
              "    <tr style=\"text-align: right;\">\n",
              "      <th></th>\n",
              "      <th>ID</th>\n",
              "      <th>N° DM 2023</th>\n",
              "      <th>Sexe</th>\n",
              "      <th>Age</th>\n",
              "      <th>wilaya</th>\n",
              "      <th>Type de CPT</th>\n",
              "      <th>Nombre de nodules</th>\n",
              "      <th>TNM</th>\n",
              "      <th>echographie</th>\n",
              "      <th>cytoponction</th>\n",
              "      <th>...</th>\n",
              "      <th>chirurgie</th>\n",
              "      <th>curage gg</th>\n",
              "      <th>suite post opératoires</th>\n",
              "      <th>métastases gg</th>\n",
              "      <th>Métastases à distance</th>\n",
              "      <th>prise Iode</th>\n",
              "      <th>invasion capsulaire</th>\n",
              "      <th>invasion tissu musculaire</th>\n",
              "      <th>emboles vasculaires</th>\n",
              "      <th>Unnamed: 26</th>\n",
              "    </tr>\n",
              "  </thead>\n",
              "  <tbody>\n",
              "    <tr>\n",
              "      <th>0</th>\n",
              "      <td>tfslnikm</td>\n",
              "      <td>001/23</td>\n",
              "      <td>F</td>\n",
              "      <td>43.0</td>\n",
              "      <td>jijel</td>\n",
              "      <td>classique</td>\n",
              "      <td>NaN</td>\n",
              "      <td>pT1b</td>\n",
              "      <td>TIRADS 4</td>\n",
              "      <td>NaN</td>\n",
              "      <td>...</td>\n",
              "      <td>TT</td>\n",
              "      <td>NaN</td>\n",
              "      <td>simples</td>\n",
              "      <td>non</td>\n",
              "      <td>non</td>\n",
              "      <td>NaN</td>\n",
              "      <td>oui</td>\n",
              "      <td>oui</td>\n",
              "      <td>non</td>\n",
              "      <td>NaN</td>\n",
              "    </tr>\n",
              "    <tr>\n",
              "      <th>1</th>\n",
              "      <td>vhugpdrt</td>\n",
              "      <td>002/23</td>\n",
              "      <td>F</td>\n",
              "      <td>53.0</td>\n",
              "      <td>alger</td>\n",
              "      <td>classique</td>\n",
              "      <td>1.0</td>\n",
              "      <td>pT1b</td>\n",
              "      <td>NaN</td>\n",
              "      <td>nodule</td>\n",
              "      <td>...</td>\n",
              "      <td>TT</td>\n",
              "      <td>NaN</td>\n",
              "      <td>NaN</td>\n",
              "      <td>NaN</td>\n",
              "      <td>NaN</td>\n",
              "      <td>NaN</td>\n",
              "      <td>NaN</td>\n",
              "      <td>NaN</td>\n",
              "      <td>NaN</td>\n",
              "      <td>NaN</td>\n",
              "    </tr>\n",
              "    <tr>\n",
              "      <th>2</th>\n",
              "      <td>skkjhijg</td>\n",
              "      <td>003/23</td>\n",
              "      <td>F</td>\n",
              "      <td>48.0</td>\n",
              "      <td>alger</td>\n",
              "      <td>vésiculaire</td>\n",
              "      <td>2.0</td>\n",
              "      <td>NaN</td>\n",
              "      <td>NaN</td>\n",
              "      <td>NaN</td>\n",
              "      <td>...</td>\n",
              "      <td>TT</td>\n",
              "      <td>NaN</td>\n",
              "      <td>simples</td>\n",
              "      <td>non</td>\n",
              "      <td>non</td>\n",
              "      <td>NaN</td>\n",
              "      <td>non</td>\n",
              "      <td>non</td>\n",
              "      <td>non</td>\n",
              "      <td>NaN</td>\n",
              "    </tr>\n",
              "    <tr>\n",
              "      <th>3</th>\n",
              "      <td>spyouhlm</td>\n",
              "      <td>004/23</td>\n",
              "      <td>F</td>\n",
              "      <td>50.0</td>\n",
              "      <td>chlef</td>\n",
              "      <td>vésiculaire</td>\n",
              "      <td>1.0</td>\n",
              "      <td>pT2</td>\n",
              "      <td>NaN</td>\n",
              "      <td>NaN</td>\n",
              "      <td>...</td>\n",
              "      <td>TT</td>\n",
              "      <td>NaN</td>\n",
              "      <td>simples</td>\n",
              "      <td>non</td>\n",
              "      <td>non</td>\n",
              "      <td>NaN</td>\n",
              "      <td>non</td>\n",
              "      <td>non</td>\n",
              "      <td>non</td>\n",
              "      <td>NaN</td>\n",
              "    </tr>\n",
              "    <tr>\n",
              "      <th>4</th>\n",
              "      <td>tqkumidy</td>\n",
              "      <td>005/23</td>\n",
              "      <td>F</td>\n",
              "      <td>70.0</td>\n",
              "      <td>tipaza</td>\n",
              "      <td>classique</td>\n",
              "      <td>1.0</td>\n",
              "      <td>pT2N1b</td>\n",
              "      <td>TIRADS 4</td>\n",
              "      <td>nodule</td>\n",
              "      <td>...</td>\n",
              "      <td>TT</td>\n",
              "      <td>central</td>\n",
              "      <td>NaN</td>\n",
              "      <td>NaN</td>\n",
              "      <td>NaN</td>\n",
              "      <td>NaN</td>\n",
              "      <td>NaN</td>\n",
              "      <td>NaN</td>\n",
              "      <td>NaN</td>\n",
              "      <td>NaN</td>\n",
              "    </tr>\n",
              "  </tbody>\n",
              "</table>\n",
              "<p>5 rows × 26 columns</p>\n",
              "</div>"
            ],
            "text/plain": [
              "         ID N° DM 2023 Sexe   Age  wilaya  Type de CPT  Nombre de nodules  \\\n",
              "0  tfslnikm     001/23    F  43.0   jijel    classique                NaN   \n",
              "1  vhugpdrt     002/23    F  53.0   alger    classique                1.0   \n",
              "2  skkjhijg     003/23    F  48.0   alger  vésiculaire                2.0   \n",
              "3  spyouhlm     004/23    F  50.0   chlef  vésiculaire                1.0   \n",
              "4  tqkumidy     005/23    F  70.0  tipaza    classique                1.0   \n",
              "\n",
              "      TNM echographie cytoponction  ... chirurgie curage gg  \\\n",
              "0    pT1b    TIRADS 4          NaN  ...        TT       NaN   \n",
              "1    pT1b         NaN       nodule  ...        TT       NaN   \n",
              "2     NaN         NaN          NaN  ...        TT       NaN   \n",
              "3     pT2         NaN          NaN  ...        TT       NaN   \n",
              "4  pT2N1b    TIRADS 4       nodule  ...        TT   central   \n",
              "\n",
              "  suite post opératoires métastases gg Métastases à distance prise Iode  \\\n",
              "0                simples           non                   non        NaN   \n",
              "1                    NaN           NaN                   NaN        NaN   \n",
              "2                simples           non                   non        NaN   \n",
              "3                simples           non                   non        NaN   \n",
              "4                    NaN           NaN                   NaN        NaN   \n",
              "\n",
              "  invasion capsulaire invasion tissu musculaire emboles vasculaires  \\\n",
              "0                 oui                       oui                 non   \n",
              "1                 NaN                       NaN                 NaN   \n",
              "2                 non                       non                 non   \n",
              "3                 non                       non                 non   \n",
              "4                 NaN                       NaN                 NaN   \n",
              "\n",
              "  Unnamed: 26  \n",
              "0         NaN  \n",
              "1         NaN  \n",
              "2         NaN  \n",
              "3         NaN  \n",
              "4         NaN  \n",
              "\n",
              "[5 rows x 26 columns]"
            ]
          },
          "execution_count": 11,
          "metadata": {},
          "output_type": "execute_result"
        }
      ],
      "source": [
        "data_url = \"https://raw.githubusercontent.com/Abd-Elhakim-Arabet/TC-Analysis/main/attempt_20_01.xlsx\"\n",
        "response = requests.get(data_url, verify=False)\n",
        "data = pd.read_excel(BytesIO(response.content), engine='openpyxl')\n",
        "data.head()"
      ]
    },
    {
      "cell_type": "code",
      "execution_count": null,
      "metadata": {},
      "outputs": [],
      "source": []
    }
  ],
  "metadata": {
    "colab": {
      "provenance": []
    },
    "kernelspec": {
      "display_name": "Python 3",
      "name": "python3"
    },
    "language_info": {
      "codemirror_mode": {
        "name": "ipython",
        "version": 3
      },
      "file_extension": ".py",
      "mimetype": "text/x-python",
      "name": "python",
      "nbconvert_exporter": "python",
      "pygments_lexer": "ipython3",
      "version": "3.12.0"
    }
  },
  "nbformat": 4,
  "nbformat_minor": 0
}
