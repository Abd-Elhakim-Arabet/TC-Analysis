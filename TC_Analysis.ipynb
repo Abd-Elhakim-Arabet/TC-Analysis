{
  "nbformat": 4,
  "nbformat_minor": 0,
  "metadata": {
    "colab": {
      "provenance": []
    },
    "kernelspec": {
      "name": "python3",
      "display_name": "Python 3"
    },
    "language_info": {
      "name": "python"
    }
  },
  "cells": [
    {
      "cell_type": "markdown",
      "source": [
        "#Introduction\n",
        "Introduction to be modified"
      ],
      "metadata": {
        "id": "Q2IfEcqdcAEt"
      }
    },
    {
      "cell_type": "markdown",
      "source": [
        "# Imports\n",
        "These are the libraries this notebook is going to use. if you're having difficulty with executing the notebook make sure to have all modules correctly installed in your enviroment."
      ],
      "metadata": {
        "id": "AR20CMG9beWF"
      }
    },
    {
      "cell_type": "code",
      "execution_count": null,
      "metadata": {
        "id": "bSiqettSayfm"
      },
      "outputs": [],
      "source": []
    }
  ]
}