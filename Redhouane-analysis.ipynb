{
 "cells": [
  {
   "cell_type": "markdown",
   "metadata": {},
   "source": [
    "# Prerequisites"
   ]
  },
  {
   "cell_type": "code",
   "execution_count": 3,
   "metadata": {},
   "outputs": [],
   "source": [
    "import pandas as pd\n",
    "import numpy as np\n",
    "import unicodedata\n",
    "import matplotlib.pyplot as plt"
   ]
  },
  {
   "cell_type": "markdown",
   "metadata": {},
   "source": [
    "# Loading the data"
   ]
  },
  {
   "cell_type": "code",
   "execution_count": 5,
   "metadata": {},
   "outputs": [
    {
     "data": {
      "text/plain": [
       "dict_keys(['Feuil1', 'Feuil2', 'Feuil4'])"
      ]
     },
     "execution_count": 5,
     "metadata": {},
     "output_type": "execute_result"
    }
   ],
   "source": [
    "file_path = 'data_redhouane.xlsx'\n",
    "sheets = pd.read_excel(file_path, sheet_name=None)\n",
    "\n",
    "sheets.keys()"
   ]
  },
  {
   "cell_type": "code",
   "execution_count": 6,
   "metadata": {},
   "outputs": [],
   "source": [
    "# Get all unique columns\n",
    "all_columns = set()\n",
    "for df in sheets.values():\n",
    "    all_columns.update(df.columns)\n",
    "\n",
    "# Convert each sheet to have the same columns\n",
    "unified_data = []\n",
    "for df in sheets.values():\n",
    "    df = df.reindex(columns=all_columns)  # Fill missing columns with NaN\n",
    "    unified_data.append(df)\n",
    "\n",
    "# Concatenate all sheets into one DataFrame\n",
    "final_df = pd.concat(unified_data, ignore_index=True)\n",
    "\n",
    "# Save for ML use\n",
    "final_df.to_csv(\"unified_dataset.csv\", index=False)"
   ]
  }
 ],
 "metadata": {
  "kernelspec": {
   "display_name": ".venv",
   "language": "python",
   "name": "python3"
  },
  "language_info": {
   "codemirror_mode": {
    "name": "ipython",
    "version": 3
   },
   "file_extension": ".py",
   "mimetype": "text/x-python",
   "name": "python",
   "nbconvert_exporter": "python",
   "pygments_lexer": "ipython3",
   "version": "3.12.0"
  }
 },
 "nbformat": 4,
 "nbformat_minor": 2
}
