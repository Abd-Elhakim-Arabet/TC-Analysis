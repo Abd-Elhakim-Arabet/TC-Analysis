{
 "cells": [
  {
   "cell_type": "markdown",
   "metadata": {},
   "source": [
    "# Prerequisites"
   ]
  },
  {
   "cell_type": "code",
   "execution_count": 1,
   "metadata": {},
   "outputs": [],
   "source": [
    "import pandas as pd\n",
    "import numpy as np\n",
    "import unicodedata\n",
    "import matplotlib.pyplot as plt"
   ]
  },
  {
   "cell_type": "markdown",
   "metadata": {},
   "source": [
    "# Loading the data"
   ]
  },
  {
   "cell_type": "code",
   "execution_count": 2,
   "metadata": {},
   "outputs": [
    {
     "data": {
      "text/plain": [
       "Index(['ID', 'SID', 'Sex', 'Age', 'Wilaya', 'TC Type', 'Nodule Count', ' TNM',\n",
       "       'Echography', 'Cytopuncture', 'Diameter', 'Location',\n",
       "       'Infected Area Count', 'ATCD', 'Family Situation', 'Discovery Method',\n",
       "       'Surgery Type', 'LN Dissection', 'Post-Surgery Status', 'LN Metastasis',\n",
       "       'Distant Metastasis', 'Iodine Dosage', 'Capsular Invasion',\n",
       "       'Muscle Tissue Invasion', 'Vascular Embolism'],\n",
       "      dtype='object')"
      ]
     },
     "execution_count": 2,
     "metadata": {},
     "output_type": "execute_result"
    }
   ],
   "source": [
    "file_path = 'data_redhouane.xlsx'\n",
    "sheets = pd.read_excel(file_path)\n",
    "\n",
    "sheets.keys()"
   ]
  },
  {
   "cell_type": "code",
   "execution_count": 3,
   "metadata": {},
   "outputs": [],
   "source": [
    "\n",
    "# Save for ML use\n",
    "sheets.to_csv(\"unified_dataset.csv\", index=False)"
   ]
  }
 ],
 "metadata": {
  "kernelspec": {
   "display_name": "Python 3",
   "language": "python",
   "name": "python3"
  },
  "language_info": {
   "codemirror_mode": {
    "name": "ipython",
    "version": 3
   },
   "file_extension": ".py",
   "mimetype": "text/x-python",
   "name": "python",
   "nbconvert_exporter": "python",
   "pygments_lexer": "ipython3",
   "version": "3.12.0"
  }
 },
 "nbformat": 4,
 "nbformat_minor": 2
}
