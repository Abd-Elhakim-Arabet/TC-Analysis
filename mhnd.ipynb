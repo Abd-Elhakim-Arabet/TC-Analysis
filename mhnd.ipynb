{
 "cells": [
  {
   "cell_type": "code",
   "execution_count": 57,
   "metadata": {},
   "outputs": [],
   "source": [
    "import pandas as pd\n",
    "import numpy as np"
   ]
  },
  {
   "cell_type": "code",
   "execution_count": 22,
   "metadata": {},
   "outputs": [],
   "source": [
    "file_path = 'dataset.csv'\n",
    "df = pd.read_csv(file_path)\n"
   ]
  },
  {
   "cell_type": "code",
   "execution_count": 23,
   "metadata": {},
   "outputs": [
    {
     "data": {
      "text/plain": [
       "Cytopuncture\n",
       "nodule                      436\n",
       "gmn                         240\n",
       "goitre                      133\n",
       "adp                          21\n",
       "goitre nodulaire             19\n",
       "thyroidite lymphocytaire     18\n",
       "hyperplasie                   9\n",
       "Name: count, dtype: int64"
      ]
     },
     "execution_count": 23,
     "metadata": {},
     "output_type": "execute_result"
    }
   ],
   "source": [
    "# df['Cytopuncture'].value_counts() \n",
    "# df = df[df.groupby('Cytopuncture').Cytopuncture.transform('count')>5]"
   ]
  },
  {
   "cell_type": "code",
   "execution_count": 27,
   "metadata": {},
   "outputs": [
    {
     "data": {
      "text/plain": [
       "ATCD\n",
       "sans         602\n",
       "maternel     120\n",
       "paternel      69\n",
       "soeur         67\n",
       "frère          8\n",
       "decendant      8\n",
       "Name: count, dtype: int64"
      ]
     },
     "execution_count": 27,
     "metadata": {},
     "output_type": "execute_result"
    }
   ],
   "source": [
    "# df['ATCD'].value_counts()\n",
    "# df['ATCD']=df['ATCD'].str.replace('sœurs','soeur').str.replace('sœur','soeur').str.replace('maternelle','maternel')"
   ]
  },
  {
   "cell_type": "code",
   "execution_count": 30,
   "metadata": {},
   "outputs": [
    {
     "data": {
      "text/plain": [
       "array(['t1b', 't2n1b', 't1bn1a', 't4', 't2', 't1an1b', 't3', 't1a',\n",
       "       't1bn1', 't2n1a', 't1bn1b', nan, 't1n1b', 't3n1b', 't3a', 't3n1a',\n",
       "       't3an1a', 'nift-p', 't1n1', 't1an1a', 't3b', 't3an1', 't4a',\n",
       "       't3bn1a', 't2n1bm1', 't1an1', 't2a', 't3bn1', 't2nxm1', 't3n1',\n",
       "       't2n1', 't1', 't3bn1b', 't2b', 't4an1b', 't1bn'], dtype=object)"
      ]
     },
     "execution_count": 30,
     "metadata": {},
     "output_type": "execute_result"
    }
   ],
   "source": [
    "df['TNM'].unique()"
   ]
  },
  {
   "cell_type": "code",
   "execution_count": 40,
   "metadata": {},
   "outputs": [],
   "source": [
    "def extract_T(x):\n",
    "    if type(x) != str:\n",
    "        return x\n",
    "    if x=='nift-p':\n",
    "        return 0\n",
    "    if 't' in x:\n",
    "        return x.split('t')[1].split('n')[0]\n",
    "    return x\n",
    "def extract_N(x):\n",
    "    if type(x) != str:\n",
    "        return x\n",
    "    if x=='nift-p':\n",
    "        return 0\n",
    "    if 'n' in x:\n",
    "        return x.split('n')[1].split('m')[0]\n",
    "    return 0\n",
    "\n",
    "def extract_M(x):\n",
    "    if type(x) != str:\n",
    "        return x\n",
    "    if x=='nift-p':\n",
    "        return 0\n",
    "    if 'm' in x:\n",
    "        return x.split('m')[1]\n",
    "    return 0"
   ]
  },
  {
   "cell_type": "code",
   "execution_count": 41,
   "metadata": {},
   "outputs": [],
   "source": [
    "df['T'] = df['TNM'].apply(extract_T)\n",
    "df['N'] = df['TNM'].apply(extract_N)\n",
    "df['M'] = df['TNM'].apply(extract_M)"
   ]
  },
  {
   "cell_type": "code",
   "execution_count": 51,
   "metadata": {},
   "outputs": [
    {
     "data": {
      "text/plain": [
       "Location\n",
       "droit                     385\n",
       "gauche                    219\n",
       "droit et gauche           182\n",
       "isthme                     24\n",
       "droit et isthme            16\n",
       "gauche et isthme            5\n",
       "droit isthme et gauche      2\n",
       "isthme et gauche            1\n",
       "isthmique                   1\n",
       "Name: count, dtype: int64"
      ]
     },
     "execution_count": 51,
     "metadata": {},
     "output_type": "execute_result"
    }
   ],
   "source": [
    "df['Location'].value_counts()"
   ]
  },
  {
   "cell_type": "code",
   "execution_count": 48,
   "metadata": {},
   "outputs": [],
   "source": [
    "# expand the Localisation column\n",
    "# values are droit, gauche, isthme, droit et isthme, gauche et isthme\n",
    "# we will create a new column for each value\n",
    "# for each row, if the value is present in the Localisation column, we will set the value to 1, otherwise 0 and nan if nan\n",
    "df['local_droit'] = df['Location'].apply(lambda x : 1 if type(x)==str and 'droit' in x else 0 if type(x)==str else x)\n",
    "df['local_gauche'] = df['Location'].apply(lambda x : 1 if type(x)==str and 'gauche' in x else 0 if type(x)==str else x)\n",
    "df['local_isthme'] = df['Location'].apply(lambda x : 1 if type(x)==str and 'isthm' in x else 0 if type(x)==str else x)"
   ]
  },
  {
   "cell_type": "code",
   "execution_count": 49,
   "metadata": {},
   "outputs": [
    {
     "name": "stdout",
     "output_type": "stream",
     "text": [
      "df['local_droit'].value_counts() = local_droit\n",
      "1.0    585\n",
      "0.0    250\n",
      "Name: count, dtype: int64\n",
      "df['local_gauche'].value_counts() = local_gauche\n",
      "0.0    426\n",
      "1.0    409\n",
      "Name: count, dtype: int64\n",
      "df['local_isthme'].value_counts() = local_isthme\n",
      "0.0    786\n",
      "1.0     49\n",
      "Name: count, dtype: int64\n"
     ]
    }
   ],
   "source": [
    "print(f\"{df['local_droit'].value_counts() = }\")\n",
    "print(f\"{df['local_gauche'].value_counts() = }\")\n",
    "print(f\"{df['local_isthme'].value_counts() = }\")"
   ]
  },
  {
   "cell_type": "code",
   "execution_count": null,
   "metadata": {},
   "outputs": [],
   "source": [
    "# you can drop location column\n",
    "# df.drop(columns=['Location'], inplace=True)\n"
   ]
  },
  {
   "cell_type": "code",
   "execution_count": 53,
   "metadata": {},
   "outputs": [],
   "source": [
    "# df.Diamètre has values like 1.5 cm, and 78 mm, convert them to mm\n",
    "def convert_to_mm(x):\n",
    "    if type(x) == str:\n",
    "        if 'cm' in x:\n",
    "            return float(x.split(' ')[0]) * 10\n",
    "        elif 'mm' in x:\n",
    "            return float(x.split(' ')[0])\n",
    "    return x\n"
   ]
  },
  {
   "cell_type": "code",
   "execution_count": 54,
   "metadata": {},
   "outputs": [
    {
     "data": {
      "text/plain": [
       "Diameter\n",
       "1.5 cm     65\n",
       "2 cm       60\n",
       "1 cm       48\n",
       "0.5 cm     31\n",
       "1.2 cm     30\n",
       "           ..\n",
       "46.1 mm     1\n",
       "2.4 cm      1\n",
       "11.2 mm     1\n",
       "5.4 mm      1\n",
       "19 mm       1\n",
       "Name: count, Length: 90, dtype: int64"
      ]
     },
     "execution_count": 54,
     "metadata": {},
     "output_type": "execute_result"
    }
   ],
   "source": [
    "df['Diameter'].value_counts()"
   ]
  },
  {
   "cell_type": "code",
   "execution_count": 55,
   "metadata": {},
   "outputs": [
    {
     "data": {
      "text/plain": [
       "Diameter\n",
       "15.0    95\n",
       "20.0    61\n",
       "10.0    56\n",
       "17.0    51\n",
       "12.0    37\n",
       "        ..\n",
       "24.0     1\n",
       "70.0     1\n",
       "37.0     1\n",
       "58.0     1\n",
       "21.0     1\n",
       "Name: count, Length: 64, dtype: int64"
      ]
     },
     "execution_count": 55,
     "metadata": {},
     "output_type": "execute_result"
    }
   ],
   "source": [
    "df['Diameter'] = df['Diameter'].apply(convert_to_mm)\n",
    "df['Diameter'].value_counts()"
   ]
  },
  {
   "cell_type": "code",
   "execution_count": 59,
   "metadata": {},
   "outputs": [
    {
     "data": {
      "text/plain": [
       "Iodine Dosage\n",
       "100 mCi    199\n",
       "100 mci    189\n",
       "50 mci      30\n",
       "50 mCi      21\n",
       "150 mCi      5\n",
       "90 mCi       5\n",
       "150 mci      3\n",
       "90 mci       3\n",
       "55 mCi       1\n",
       "Name: count, dtype: int64"
      ]
     },
     "execution_count": 59,
     "metadata": {},
     "output_type": "execute_result"
    }
   ],
   "source": [
    "df['Iodine Dosage'].value_counts()"
   ]
  },
  {
   "cell_type": "code",
   "execution_count": 58,
   "metadata": {},
   "outputs": [
    {
     "name": "stderr",
     "output_type": "stream",
     "text": [
      "C:\\Users\\MSI GAMER\\AppData\\Local\\Temp\\ipykernel_13200\\2562092023.py:5: SettingWithCopyWarning: \n",
      "A value is trying to be set on a copy of a slice from a DataFrame.\n",
      "Try using .loc[row_indexer,col_indexer] = value instead\n",
      "\n",
      "See the caveats in the documentation: https://pandas.pydata.org/pandas-docs/stable/user_guide/indexing.html#returning-a-view-versus-a-copy\n",
      "  df['Iodine Dosage'] = df['Iodine Dosage'].apply(lambda x: np.nan if x == 'non' else x)\n"
     ]
    }
   ],
   "source": [
    "# oui is going to be dropped\n",
    "# drop the row containing oui\n",
    "df = df[df['Iodine Dosage'] != 'oui']\n",
    "# non is going to be converted to np.nan\n",
    "df['Iodine Dosage'] = df['Iodine Dosage'].apply(lambda x: np.nan if x == 'non' else x)\n"
   ]
  },
  {
   "cell_type": "code",
   "execution_count": 60,
   "metadata": {},
   "outputs": [
    {
     "data": {
      "text/plain": [
       "Iodine Dosage\n",
       "100 mCi    199\n",
       "100 mci    189\n",
       "50 mci      30\n",
       "50 mCi      21\n",
       "150 mCi      5\n",
       "90 mCi       5\n",
       "150 mci      3\n",
       "90 mci       3\n",
       "55 mCi       1\n",
       "Name: count, dtype: int64"
      ]
     },
     "execution_count": 60,
     "metadata": {},
     "output_type": "execute_result"
    }
   ],
   "source": [
    "df['Iodine Dosage'].value_counts()"
   ]
  },
  {
   "cell_type": "code",
   "execution_count": 61,
   "metadata": {},
   "outputs": [
    {
     "name": "stderr",
     "output_type": "stream",
     "text": [
      "C:\\Users\\MSI GAMER\\AppData\\Local\\Temp\\ipykernel_13200\\2112936604.py:1: SettingWithCopyWarning: \n",
      "A value is trying to be set on a copy of a slice from a DataFrame.\n",
      "Try using .loc[row_indexer,col_indexer] = value instead\n",
      "\n",
      "See the caveats in the documentation: https://pandas.pydata.org/pandas-docs/stable/user_guide/indexing.html#returning-a-view-versus-a-copy\n",
      "  df['Iodine Dosage'] = df['Iodine Dosage'].apply(lambda x: float(x.split(' ')[0]) if type(x) == str else x)\n"
     ]
    },
    {
     "data": {
      "text/plain": [
       "Iodine Dosage\n",
       "100.0    388\n",
       "50.0      51\n",
       "150.0      8\n",
       "90.0       8\n",
       "55.0       1\n",
       "Name: count, dtype: int64"
      ]
     },
     "execution_count": 61,
     "metadata": {},
     "output_type": "execute_result"
    }
   ],
   "source": [
    "df['Iodine Dosage'] = df['Iodine Dosage'].apply(lambda x: float(x.split(' ')[0]) if type(x) == str else x)\n",
    "df['Iodine Dosage'].value_counts()"
   ]
  },
  {
   "cell_type": "code",
   "execution_count": 62,
   "metadata": {},
   "outputs": [],
   "source": [
    "df.to_csv('dataset.csv', index=False)"
   ]
  }
 ],
 "metadata": {
  "kernelspec": {
   "display_name": "Python 3",
   "language": "python",
   "name": "python3"
  },
  "language_info": {
   "codemirror_mode": {
    "name": "ipython",
    "version": 3
   },
   "file_extension": ".py",
   "mimetype": "text/x-python",
   "name": "python",
   "nbconvert_exporter": "python",
   "pygments_lexer": "ipython3",
   "version": "3.12.4"
  }
 },
 "nbformat": 4,
 "nbformat_minor": 2
}
